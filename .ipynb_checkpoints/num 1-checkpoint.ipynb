{
 "cells": [
  {
   "cell_type": "code",
   "execution_count": 1,
   "id": "1a56058b",
   "metadata": {},
   "outputs": [],
   "source": [
    "import numpy as np\n",
    "import pandas as pd\n",
    "import seaborn as sns\n",
    "import matplotlib.pyplot as plt"
   ]
  },
  {
   "cell_type": "code",
   "execution_count": 2,
   "id": "e288857d",
   "metadata": {},
   "outputs": [],
   "source": [
    "df = pd.read_csv('datasets/p1/student.csv')"
   ]
  },
  {
   "cell_type": "code",
   "execution_count": 3,
   "id": "34eba760",
   "metadata": {
    "scrolled": true
   },
   "outputs": [
    {
     "name": "stdout",
     "output_type": "stream",
     "text": [
      "<class 'pandas.core.frame.DataFrame'>\n",
      "RangeIndex: 395 entries, 0 to 394\n",
      "Data columns (total 33 columns):\n",
      " #   Column      Non-Null Count  Dtype \n",
      "---  ------      --------------  ----- \n",
      " 0   school      395 non-null    object\n",
      " 1   sex         395 non-null    object\n",
      " 2   age         395 non-null    int64 \n",
      " 3   address     395 non-null    object\n",
      " 4   famsize     395 non-null    object\n",
      " 5   Pstatus     395 non-null    object\n",
      " 6   Medu        395 non-null    object\n",
      " 7   Fedu        395 non-null    object\n",
      " 8   Mjob        395 non-null    object\n",
      " 9   Fjob        395 non-null    object\n",
      " 10  reason      395 non-null    object\n",
      " 11  guardian    395 non-null    object\n",
      " 12  traveltime  395 non-null    object\n",
      " 13  studytime   395 non-null    object\n",
      " 14  failures    395 non-null    int64 \n",
      " 15  schoolsup   395 non-null    object\n",
      " 16  famsup      395 non-null    object\n",
      " 17  paid        395 non-null    object\n",
      " 18  activities  395 non-null    object\n",
      " 19  nursery     395 non-null    object\n",
      " 20  higher      395 non-null    object\n",
      " 21  internet    395 non-null    object\n",
      " 22  romantic    395 non-null    object\n",
      " 23  famrel      395 non-null    object\n",
      " 24  freetime    395 non-null    object\n",
      " 25  goout       395 non-null    object\n",
      " 26  Dalc        395 non-null    object\n",
      " 27  Walc        395 non-null    object\n",
      " 28  health      395 non-null    object\n",
      " 29  absences    395 non-null    int64 \n",
      " 30  G1          395 non-null    int64 \n",
      " 31  G2          395 non-null    int64 \n",
      " 32  G3          395 non-null    int64 \n",
      "dtypes: int64(6), object(27)\n",
      "memory usage: 102.0+ KB\n"
     ]
    }
   ],
   "source": [
    "df.info()"
   ]
  },
  {
   "cell_type": "code",
   "execution_count": 4,
   "id": "333093ad",
   "metadata": {
    "scrolled": false
   },
   "outputs": [
    {
     "data": {
      "text/html": [
       "<div>\n",
       "<style scoped>\n",
       "    .dataframe tbody tr th:only-of-type {\n",
       "        vertical-align: middle;\n",
       "    }\n",
       "\n",
       "    .dataframe tbody tr th {\n",
       "        vertical-align: top;\n",
       "    }\n",
       "\n",
       "    .dataframe thead th {\n",
       "        text-align: right;\n",
       "    }\n",
       "</style>\n",
       "<table border=\"1\" class=\"dataframe\">\n",
       "  <thead>\n",
       "    <tr style=\"text-align: right;\">\n",
       "      <th></th>\n",
       "      <th>0</th>\n",
       "      <th>1</th>\n",
       "      <th>2</th>\n",
       "      <th>3</th>\n",
       "      <th>4</th>\n",
       "    </tr>\n",
       "  </thead>\n",
       "  <tbody>\n",
       "    <tr>\n",
       "      <th>school</th>\n",
       "      <td>GP</td>\n",
       "      <td>GP</td>\n",
       "      <td>GP</td>\n",
       "      <td>GP</td>\n",
       "      <td>GP</td>\n",
       "    </tr>\n",
       "    <tr>\n",
       "      <th>sex</th>\n",
       "      <td>F</td>\n",
       "      <td>F</td>\n",
       "      <td>F</td>\n",
       "      <td>F</td>\n",
       "      <td>F</td>\n",
       "    </tr>\n",
       "    <tr>\n",
       "      <th>age</th>\n",
       "      <td>18</td>\n",
       "      <td>17</td>\n",
       "      <td>15</td>\n",
       "      <td>15</td>\n",
       "      <td>16</td>\n",
       "    </tr>\n",
       "    <tr>\n",
       "      <th>address</th>\n",
       "      <td>U</td>\n",
       "      <td>U</td>\n",
       "      <td>U</td>\n",
       "      <td>U</td>\n",
       "      <td>U</td>\n",
       "    </tr>\n",
       "    <tr>\n",
       "      <th>famsize</th>\n",
       "      <td>GT3</td>\n",
       "      <td>GT3</td>\n",
       "      <td>LE3</td>\n",
       "      <td>GT3</td>\n",
       "      <td>GT3</td>\n",
       "    </tr>\n",
       "    <tr>\n",
       "      <th>Pstatus</th>\n",
       "      <td>A</td>\n",
       "      <td>T</td>\n",
       "      <td>T</td>\n",
       "      <td>T</td>\n",
       "      <td>T</td>\n",
       "    </tr>\n",
       "    <tr>\n",
       "      <th>Medu</th>\n",
       "      <td>higher education</td>\n",
       "      <td>primary education (4th grade)</td>\n",
       "      <td>primary education (4th grade)</td>\n",
       "      <td>higher education</td>\n",
       "      <td>secondary education</td>\n",
       "    </tr>\n",
       "    <tr>\n",
       "      <th>Fedu</th>\n",
       "      <td>higher education</td>\n",
       "      <td>primary education (4th grade)</td>\n",
       "      <td>primary education (4th grade)</td>\n",
       "      <td>5th to 9th grade</td>\n",
       "      <td>secondary education</td>\n",
       "    </tr>\n",
       "    <tr>\n",
       "      <th>Mjob</th>\n",
       "      <td>at_home</td>\n",
       "      <td>at_home</td>\n",
       "      <td>at_home</td>\n",
       "      <td>health</td>\n",
       "      <td>other</td>\n",
       "    </tr>\n",
       "    <tr>\n",
       "      <th>Fjob</th>\n",
       "      <td>teacher</td>\n",
       "      <td>other</td>\n",
       "      <td>other</td>\n",
       "      <td>services</td>\n",
       "      <td>other</td>\n",
       "    </tr>\n",
       "    <tr>\n",
       "      <th>reason</th>\n",
       "      <td>course</td>\n",
       "      <td>course</td>\n",
       "      <td>other</td>\n",
       "      <td>home</td>\n",
       "      <td>home</td>\n",
       "    </tr>\n",
       "    <tr>\n",
       "      <th>guardian</th>\n",
       "      <td>mother</td>\n",
       "      <td>father</td>\n",
       "      <td>mother</td>\n",
       "      <td>mother</td>\n",
       "      <td>father</td>\n",
       "    </tr>\n",
       "    <tr>\n",
       "      <th>traveltime</th>\n",
       "      <td>15 to 30 min.</td>\n",
       "      <td>&lt;15 min.</td>\n",
       "      <td>&lt;15 min.</td>\n",
       "      <td>&lt;15 min.</td>\n",
       "      <td>&lt;15 min.</td>\n",
       "    </tr>\n",
       "    <tr>\n",
       "      <th>studytime</th>\n",
       "      <td>2 to 5 hours</td>\n",
       "      <td>2 to 5 hours</td>\n",
       "      <td>2 to 5 hours</td>\n",
       "      <td>5 to 10 hours</td>\n",
       "      <td>2 to 5 hours</td>\n",
       "    </tr>\n",
       "    <tr>\n",
       "      <th>failures</th>\n",
       "      <td>0</td>\n",
       "      <td>0</td>\n",
       "      <td>3</td>\n",
       "      <td>0</td>\n",
       "      <td>0</td>\n",
       "    </tr>\n",
       "    <tr>\n",
       "      <th>schoolsup</th>\n",
       "      <td>yes</td>\n",
       "      <td>no</td>\n",
       "      <td>yes</td>\n",
       "      <td>no</td>\n",
       "      <td>no</td>\n",
       "    </tr>\n",
       "    <tr>\n",
       "      <th>famsup</th>\n",
       "      <td>no</td>\n",
       "      <td>yes</td>\n",
       "      <td>no</td>\n",
       "      <td>yes</td>\n",
       "      <td>yes</td>\n",
       "    </tr>\n",
       "    <tr>\n",
       "      <th>paid</th>\n",
       "      <td>no</td>\n",
       "      <td>no</td>\n",
       "      <td>yes</td>\n",
       "      <td>yes</td>\n",
       "      <td>yes</td>\n",
       "    </tr>\n",
       "    <tr>\n",
       "      <th>activities</th>\n",
       "      <td>no</td>\n",
       "      <td>no</td>\n",
       "      <td>no</td>\n",
       "      <td>yes</td>\n",
       "      <td>no</td>\n",
       "    </tr>\n",
       "    <tr>\n",
       "      <th>nursery</th>\n",
       "      <td>yes</td>\n",
       "      <td>no</td>\n",
       "      <td>yes</td>\n",
       "      <td>yes</td>\n",
       "      <td>yes</td>\n",
       "    </tr>\n",
       "    <tr>\n",
       "      <th>higher</th>\n",
       "      <td>yes</td>\n",
       "      <td>yes</td>\n",
       "      <td>yes</td>\n",
       "      <td>yes</td>\n",
       "      <td>yes</td>\n",
       "    </tr>\n",
       "    <tr>\n",
       "      <th>internet</th>\n",
       "      <td>no</td>\n",
       "      <td>yes</td>\n",
       "      <td>yes</td>\n",
       "      <td>yes</td>\n",
       "      <td>no</td>\n",
       "    </tr>\n",
       "    <tr>\n",
       "      <th>romantic</th>\n",
       "      <td>no</td>\n",
       "      <td>no</td>\n",
       "      <td>no</td>\n",
       "      <td>yes</td>\n",
       "      <td>no</td>\n",
       "    </tr>\n",
       "    <tr>\n",
       "      <th>famrel</th>\n",
       "      <td>very good</td>\n",
       "      <td>excellent</td>\n",
       "      <td>very good</td>\n",
       "      <td>good</td>\n",
       "      <td>very good</td>\n",
       "    </tr>\n",
       "    <tr>\n",
       "      <th>freetime</th>\n",
       "      <td>medium</td>\n",
       "      <td>medium</td>\n",
       "      <td>medium</td>\n",
       "      <td>low</td>\n",
       "      <td>medium</td>\n",
       "    </tr>\n",
       "    <tr>\n",
       "      <th>goout</th>\n",
       "      <td>high</td>\n",
       "      <td>medium</td>\n",
       "      <td>low</td>\n",
       "      <td>low</td>\n",
       "      <td>low</td>\n",
       "    </tr>\n",
       "    <tr>\n",
       "      <th>Dalc</th>\n",
       "      <td>very low</td>\n",
       "      <td>very low</td>\n",
       "      <td>low</td>\n",
       "      <td>very low</td>\n",
       "      <td>very low</td>\n",
       "    </tr>\n",
       "    <tr>\n",
       "      <th>Walc</th>\n",
       "      <td>very low</td>\n",
       "      <td>very low</td>\n",
       "      <td>medium</td>\n",
       "      <td>very low</td>\n",
       "      <td>low</td>\n",
       "    </tr>\n",
       "    <tr>\n",
       "      <th>health</th>\n",
       "      <td>good</td>\n",
       "      <td>good</td>\n",
       "      <td>good</td>\n",
       "      <td>excellent</td>\n",
       "      <td>excellent</td>\n",
       "    </tr>\n",
       "    <tr>\n",
       "      <th>absences</th>\n",
       "      <td>6</td>\n",
       "      <td>4</td>\n",
       "      <td>10</td>\n",
       "      <td>2</td>\n",
       "      <td>4</td>\n",
       "    </tr>\n",
       "    <tr>\n",
       "      <th>G1</th>\n",
       "      <td>5</td>\n",
       "      <td>5</td>\n",
       "      <td>7</td>\n",
       "      <td>15</td>\n",
       "      <td>6</td>\n",
       "    </tr>\n",
       "    <tr>\n",
       "      <th>G2</th>\n",
       "      <td>6</td>\n",
       "      <td>5</td>\n",
       "      <td>8</td>\n",
       "      <td>14</td>\n",
       "      <td>10</td>\n",
       "    </tr>\n",
       "    <tr>\n",
       "      <th>G3</th>\n",
       "      <td>6</td>\n",
       "      <td>6</td>\n",
       "      <td>10</td>\n",
       "      <td>15</td>\n",
       "      <td>10</td>\n",
       "    </tr>\n",
       "  </tbody>\n",
       "</table>\n",
       "</div>"
      ],
      "text/plain": [
       "                           0                              1  \\\n",
       "school                    GP                             GP   \n",
       "sex                        F                              F   \n",
       "age                       18                             17   \n",
       "address                    U                              U   \n",
       "famsize                  GT3                            GT3   \n",
       "Pstatus                    A                              T   \n",
       "Medu        higher education  primary education (4th grade)   \n",
       "Fedu        higher education  primary education (4th grade)   \n",
       "Mjob                 at_home                        at_home   \n",
       "Fjob                 teacher                          other   \n",
       "reason                course                         course   \n",
       "guardian              mother                         father   \n",
       "traveltime     15 to 30 min.                       <15 min.   \n",
       "studytime       2 to 5 hours                   2 to 5 hours   \n",
       "failures                   0                              0   \n",
       "schoolsup                yes                             no   \n",
       "famsup                    no                            yes   \n",
       "paid                      no                             no   \n",
       "activities                no                             no   \n",
       "nursery                  yes                             no   \n",
       "higher                   yes                            yes   \n",
       "internet                  no                            yes   \n",
       "romantic                  no                             no   \n",
       "famrel             very good                      excellent   \n",
       "freetime              medium                         medium   \n",
       "goout                   high                         medium   \n",
       "Dalc                very low                       very low   \n",
       "Walc                very low                       very low   \n",
       "health                  good                           good   \n",
       "absences                   6                              4   \n",
       "G1                         5                              5   \n",
       "G2                         6                              5   \n",
       "G3                         6                              6   \n",
       "\n",
       "                                        2                 3  \\\n",
       "school                                 GP                GP   \n",
       "sex                                     F                 F   \n",
       "age                                    15                15   \n",
       "address                                 U                 U   \n",
       "famsize                               LE3               GT3   \n",
       "Pstatus                                 T                 T   \n",
       "Medu        primary education (4th grade)  higher education   \n",
       "Fedu        primary education (4th grade)  5th to 9th grade   \n",
       "Mjob                              at_home            health   \n",
       "Fjob                                other          services   \n",
       "reason                              other              home   \n",
       "guardian                           mother            mother   \n",
       "traveltime                       <15 min.          <15 min.   \n",
       "studytime                    2 to 5 hours     5 to 10 hours   \n",
       "failures                                3                 0   \n",
       "schoolsup                             yes                no   \n",
       "famsup                                 no               yes   \n",
       "paid                                  yes               yes   \n",
       "activities                             no               yes   \n",
       "nursery                               yes               yes   \n",
       "higher                                yes               yes   \n",
       "internet                              yes               yes   \n",
       "romantic                               no               yes   \n",
       "famrel                          very good              good   \n",
       "freetime                           medium               low   \n",
       "goout                                 low               low   \n",
       "Dalc                                  low          very low   \n",
       "Walc                               medium          very low   \n",
       "health                               good         excellent   \n",
       "absences                               10                 2   \n",
       "G1                                      7                15   \n",
       "G2                                      8                14   \n",
       "G3                                     10                15   \n",
       "\n",
       "                              4  \n",
       "school                       GP  \n",
       "sex                           F  \n",
       "age                          16  \n",
       "address                       U  \n",
       "famsize                     GT3  \n",
       "Pstatus                       T  \n",
       "Medu        secondary education  \n",
       "Fedu        secondary education  \n",
       "Mjob                      other  \n",
       "Fjob                      other  \n",
       "reason                     home  \n",
       "guardian                 father  \n",
       "traveltime             <15 min.  \n",
       "studytime          2 to 5 hours  \n",
       "failures                      0  \n",
       "schoolsup                    no  \n",
       "famsup                      yes  \n",
       "paid                        yes  \n",
       "activities                   no  \n",
       "nursery                     yes  \n",
       "higher                      yes  \n",
       "internet                     no  \n",
       "romantic                     no  \n",
       "famrel                very good  \n",
       "freetime                 medium  \n",
       "goout                       low  \n",
       "Dalc                   very low  \n",
       "Walc                        low  \n",
       "health                excellent  \n",
       "absences                      4  \n",
       "G1                            6  \n",
       "G2                           10  \n",
       "G3                           10  "
      ]
     },
     "execution_count": 4,
     "metadata": {},
     "output_type": "execute_result"
    }
   ],
   "source": [
    "df.head().transpose()"
   ]
  },
  {
   "cell_type": "code",
   "execution_count": 5,
   "id": "fff8fd9c",
   "metadata": {},
   "outputs": [],
   "source": [
    "BACKUP_DF = df"
   ]
  },
  {
   "cell_type": "code",
   "execution_count": 6,
   "id": "cb693582",
   "metadata": {
    "scrolled": true
   },
   "outputs": [],
   "source": [
    "def create_new_series_with_zeros(fields):\n",
    "    for i in fields.values():\n",
    "        val = i['new_field_name']\n",
    "        df[val] = 0\n",
    "\n",
    "changable_fields = {\n",
    "    'school':{'new_field_name':'n_school', 'updatable_field':'GP'},\n",
    "    'sex':{'new_field_name':'n_sex', 'updatable_field':'F'},\n",
    "    'address':{'new_field_name':'n_address', 'updatable_field':'U'},\n",
    "    'famsize':{'new_field_name':'n_famsize', 'updatable_field':'GT3'},\n",
    "    'Pstatus':{'new_field_name':'n_Pstatus', 'updatable_field':'A'},\n",
    "    'schoolsup':{'new_field_name':'n_schoolsup', 'updatable_field':'yes'},\n",
    "    'famsup':{'new_field_name':'n_famsup', 'updatable_field':'yes'},\n",
    "    'paid':{'new_field_name':'n_paid', 'updatable_field':'yes'},\n",
    "    'activities':{'new_field_name':'n_activities', 'updatable_field':'yes'},\n",
    "    'nursery':{'new_field_name':'n_nursery', 'updatable_field':'yes'},\n",
    "    'higher':{'new_field_name':'n_higher', 'updatable_field':'yes'},\n",
    "    'internet':{'new_field_name':'n_internet', 'updatable_field':'yes'},\n",
    "    'romantic':{'new_field_name':'n_romantic', 'updatable_field':'yes'}\n",
    "}\n",
    "create_new_series_with_zeros(changable_fields)\n"
   ]
  },
  {
   "cell_type": "code",
   "execution_count": 7,
   "id": "f6a032d9",
   "metadata": {},
   "outputs": [],
   "source": [
    "def change_into_binary(fields):\n",
    "    for k,v in fields.items():\n",
    "        df.loc[df[k] == v['updatable_field'], v['new_field_name']] = 1\n",
    "change_into_binary(changable_fields)\n"
   ]
  },
  {
   "cell_type": "markdown",
   "id": "cb2103f3",
   "metadata": {},
   "source": [
    "## age category"
   ]
  },
  {
   "cell_type": "code",
   "execution_count": 8,
   "id": "24d8f7c0",
   "metadata": {},
   "outputs": [],
   "source": [
    "df['age_category'] = 'category'"
   ]
  },
  {
   "cell_type": "code",
   "execution_count": 9,
   "id": "96724757",
   "metadata": {},
   "outputs": [],
   "source": [
    "df.loc[df['age']<= 17, 'age_category'] = '15 to 17'\n",
    "df.loc[df['age']>= 21, 'age_category'] = '21 and over'\n",
    "df.loc[df['age_category'] == 'category', 'age_category'] = '18 to 20'"
   ]
  },
  {
   "cell_type": "code",
   "execution_count": 10,
   "id": "3bcdecb5",
   "metadata": {},
   "outputs": [],
   "source": [
    "df['passed'] = 'yes'"
   ]
  },
  {
   "cell_type": "code",
   "execution_count": 11,
   "id": "a6fe6c62",
   "metadata": {},
   "outputs": [],
   "source": [
    "df.loc[df['G3'] < 8, 'passed'] = 'no'"
   ]
  },
  {
   "cell_type": "markdown",
   "id": "4fa50e83",
   "metadata": {},
   "source": [
    "## Final Dataframe after adding cols"
   ]
  },
  {
   "cell_type": "code",
   "execution_count": 12,
   "id": "e91ddba1",
   "metadata": {},
   "outputs": [
    {
     "data": {
      "text/html": [
       "<div>\n",
       "<style scoped>\n",
       "    .dataframe tbody tr th:only-of-type {\n",
       "        vertical-align: middle;\n",
       "    }\n",
       "\n",
       "    .dataframe tbody tr th {\n",
       "        vertical-align: top;\n",
       "    }\n",
       "\n",
       "    .dataframe thead th {\n",
       "        text-align: right;\n",
       "    }\n",
       "</style>\n",
       "<table border=\"1\" class=\"dataframe\">\n",
       "  <thead>\n",
       "    <tr style=\"text-align: right;\">\n",
       "      <th></th>\n",
       "      <th>school</th>\n",
       "      <th>sex</th>\n",
       "      <th>age</th>\n",
       "      <th>address</th>\n",
       "      <th>famsize</th>\n",
       "      <th>Pstatus</th>\n",
       "      <th>Medu</th>\n",
       "      <th>Fedu</th>\n",
       "      <th>Mjob</th>\n",
       "      <th>Fjob</th>\n",
       "      <th>...</th>\n",
       "      <th>n_schoolsup</th>\n",
       "      <th>n_famsup</th>\n",
       "      <th>n_paid</th>\n",
       "      <th>n_activities</th>\n",
       "      <th>n_nursery</th>\n",
       "      <th>n_higher</th>\n",
       "      <th>n_internet</th>\n",
       "      <th>n_romantic</th>\n",
       "      <th>age_category</th>\n",
       "      <th>passed</th>\n",
       "    </tr>\n",
       "  </thead>\n",
       "  <tbody>\n",
       "    <tr>\n",
       "      <th>0</th>\n",
       "      <td>GP</td>\n",
       "      <td>F</td>\n",
       "      <td>18</td>\n",
       "      <td>U</td>\n",
       "      <td>GT3</td>\n",
       "      <td>A</td>\n",
       "      <td>higher education</td>\n",
       "      <td>higher education</td>\n",
       "      <td>at_home</td>\n",
       "      <td>teacher</td>\n",
       "      <td>...</td>\n",
       "      <td>1</td>\n",
       "      <td>0</td>\n",
       "      <td>0</td>\n",
       "      <td>0</td>\n",
       "      <td>1</td>\n",
       "      <td>1</td>\n",
       "      <td>0</td>\n",
       "      <td>0</td>\n",
       "      <td>18 to 20</td>\n",
       "      <td>no</td>\n",
       "    </tr>\n",
       "    <tr>\n",
       "      <th>1</th>\n",
       "      <td>GP</td>\n",
       "      <td>F</td>\n",
       "      <td>17</td>\n",
       "      <td>U</td>\n",
       "      <td>GT3</td>\n",
       "      <td>T</td>\n",
       "      <td>primary education (4th grade)</td>\n",
       "      <td>primary education (4th grade)</td>\n",
       "      <td>at_home</td>\n",
       "      <td>other</td>\n",
       "      <td>...</td>\n",
       "      <td>0</td>\n",
       "      <td>1</td>\n",
       "      <td>0</td>\n",
       "      <td>0</td>\n",
       "      <td>0</td>\n",
       "      <td>1</td>\n",
       "      <td>1</td>\n",
       "      <td>0</td>\n",
       "      <td>15 to 17</td>\n",
       "      <td>no</td>\n",
       "    </tr>\n",
       "    <tr>\n",
       "      <th>2</th>\n",
       "      <td>GP</td>\n",
       "      <td>F</td>\n",
       "      <td>15</td>\n",
       "      <td>U</td>\n",
       "      <td>LE3</td>\n",
       "      <td>T</td>\n",
       "      <td>primary education (4th grade)</td>\n",
       "      <td>primary education (4th grade)</td>\n",
       "      <td>at_home</td>\n",
       "      <td>other</td>\n",
       "      <td>...</td>\n",
       "      <td>1</td>\n",
       "      <td>0</td>\n",
       "      <td>1</td>\n",
       "      <td>0</td>\n",
       "      <td>1</td>\n",
       "      <td>1</td>\n",
       "      <td>1</td>\n",
       "      <td>0</td>\n",
       "      <td>15 to 17</td>\n",
       "      <td>yes</td>\n",
       "    </tr>\n",
       "    <tr>\n",
       "      <th>3</th>\n",
       "      <td>GP</td>\n",
       "      <td>F</td>\n",
       "      <td>15</td>\n",
       "      <td>U</td>\n",
       "      <td>GT3</td>\n",
       "      <td>T</td>\n",
       "      <td>higher education</td>\n",
       "      <td>5th to 9th grade</td>\n",
       "      <td>health</td>\n",
       "      <td>services</td>\n",
       "      <td>...</td>\n",
       "      <td>0</td>\n",
       "      <td>1</td>\n",
       "      <td>1</td>\n",
       "      <td>1</td>\n",
       "      <td>1</td>\n",
       "      <td>1</td>\n",
       "      <td>1</td>\n",
       "      <td>1</td>\n",
       "      <td>15 to 17</td>\n",
       "      <td>yes</td>\n",
       "    </tr>\n",
       "    <tr>\n",
       "      <th>4</th>\n",
       "      <td>GP</td>\n",
       "      <td>F</td>\n",
       "      <td>16</td>\n",
       "      <td>U</td>\n",
       "      <td>GT3</td>\n",
       "      <td>T</td>\n",
       "      <td>secondary education</td>\n",
       "      <td>secondary education</td>\n",
       "      <td>other</td>\n",
       "      <td>other</td>\n",
       "      <td>...</td>\n",
       "      <td>0</td>\n",
       "      <td>1</td>\n",
       "      <td>1</td>\n",
       "      <td>0</td>\n",
       "      <td>1</td>\n",
       "      <td>1</td>\n",
       "      <td>0</td>\n",
       "      <td>0</td>\n",
       "      <td>15 to 17</td>\n",
       "      <td>yes</td>\n",
       "    </tr>\n",
       "    <tr>\n",
       "      <th>...</th>\n",
       "      <td>...</td>\n",
       "      <td>...</td>\n",
       "      <td>...</td>\n",
       "      <td>...</td>\n",
       "      <td>...</td>\n",
       "      <td>...</td>\n",
       "      <td>...</td>\n",
       "      <td>...</td>\n",
       "      <td>...</td>\n",
       "      <td>...</td>\n",
       "      <td>...</td>\n",
       "      <td>...</td>\n",
       "      <td>...</td>\n",
       "      <td>...</td>\n",
       "      <td>...</td>\n",
       "      <td>...</td>\n",
       "      <td>...</td>\n",
       "      <td>...</td>\n",
       "      <td>...</td>\n",
       "      <td>...</td>\n",
       "      <td>...</td>\n",
       "    </tr>\n",
       "    <tr>\n",
       "      <th>390</th>\n",
       "      <td>MS</td>\n",
       "      <td>M</td>\n",
       "      <td>20</td>\n",
       "      <td>U</td>\n",
       "      <td>LE3</td>\n",
       "      <td>A</td>\n",
       "      <td>5th to 9th grade</td>\n",
       "      <td>5th to 9th grade</td>\n",
       "      <td>services</td>\n",
       "      <td>services</td>\n",
       "      <td>...</td>\n",
       "      <td>0</td>\n",
       "      <td>1</td>\n",
       "      <td>1</td>\n",
       "      <td>0</td>\n",
       "      <td>1</td>\n",
       "      <td>1</td>\n",
       "      <td>0</td>\n",
       "      <td>0</td>\n",
       "      <td>18 to 20</td>\n",
       "      <td>yes</td>\n",
       "    </tr>\n",
       "    <tr>\n",
       "      <th>391</th>\n",
       "      <td>MS</td>\n",
       "      <td>M</td>\n",
       "      <td>17</td>\n",
       "      <td>U</td>\n",
       "      <td>LE3</td>\n",
       "      <td>T</td>\n",
       "      <td>secondary education</td>\n",
       "      <td>primary education (4th grade)</td>\n",
       "      <td>services</td>\n",
       "      <td>services</td>\n",
       "      <td>...</td>\n",
       "      <td>0</td>\n",
       "      <td>0</td>\n",
       "      <td>0</td>\n",
       "      <td>0</td>\n",
       "      <td>0</td>\n",
       "      <td>1</td>\n",
       "      <td>1</td>\n",
       "      <td>0</td>\n",
       "      <td>15 to 17</td>\n",
       "      <td>yes</td>\n",
       "    </tr>\n",
       "    <tr>\n",
       "      <th>392</th>\n",
       "      <td>MS</td>\n",
       "      <td>M</td>\n",
       "      <td>21</td>\n",
       "      <td>R</td>\n",
       "      <td>GT3</td>\n",
       "      <td>T</td>\n",
       "      <td>primary education (4th grade)</td>\n",
       "      <td>primary education (4th grade)</td>\n",
       "      <td>other</td>\n",
       "      <td>other</td>\n",
       "      <td>...</td>\n",
       "      <td>0</td>\n",
       "      <td>0</td>\n",
       "      <td>0</td>\n",
       "      <td>0</td>\n",
       "      <td>0</td>\n",
       "      <td>1</td>\n",
       "      <td>0</td>\n",
       "      <td>0</td>\n",
       "      <td>21 and over</td>\n",
       "      <td>no</td>\n",
       "    </tr>\n",
       "    <tr>\n",
       "      <th>393</th>\n",
       "      <td>MS</td>\n",
       "      <td>M</td>\n",
       "      <td>18</td>\n",
       "      <td>R</td>\n",
       "      <td>LE3</td>\n",
       "      <td>T</td>\n",
       "      <td>secondary education</td>\n",
       "      <td>5th to 9th grade</td>\n",
       "      <td>services</td>\n",
       "      <td>other</td>\n",
       "      <td>...</td>\n",
       "      <td>0</td>\n",
       "      <td>0</td>\n",
       "      <td>0</td>\n",
       "      <td>0</td>\n",
       "      <td>0</td>\n",
       "      <td>1</td>\n",
       "      <td>1</td>\n",
       "      <td>0</td>\n",
       "      <td>18 to 20</td>\n",
       "      <td>yes</td>\n",
       "    </tr>\n",
       "    <tr>\n",
       "      <th>394</th>\n",
       "      <td>MS</td>\n",
       "      <td>M</td>\n",
       "      <td>19</td>\n",
       "      <td>U</td>\n",
       "      <td>LE3</td>\n",
       "      <td>T</td>\n",
       "      <td>primary education (4th grade)</td>\n",
       "      <td>primary education (4th grade)</td>\n",
       "      <td>other</td>\n",
       "      <td>at_home</td>\n",
       "      <td>...</td>\n",
       "      <td>0</td>\n",
       "      <td>0</td>\n",
       "      <td>0</td>\n",
       "      <td>0</td>\n",
       "      <td>1</td>\n",
       "      <td>1</td>\n",
       "      <td>1</td>\n",
       "      <td>0</td>\n",
       "      <td>18 to 20</td>\n",
       "      <td>yes</td>\n",
       "    </tr>\n",
       "  </tbody>\n",
       "</table>\n",
       "<p>395 rows × 48 columns</p>\n",
       "</div>"
      ],
      "text/plain": [
       "    school sex  age address famsize Pstatus                           Medu  \\\n",
       "0       GP   F   18       U     GT3       A               higher education   \n",
       "1       GP   F   17       U     GT3       T  primary education (4th grade)   \n",
       "2       GP   F   15       U     LE3       T  primary education (4th grade)   \n",
       "3       GP   F   15       U     GT3       T               higher education   \n",
       "4       GP   F   16       U     GT3       T            secondary education   \n",
       "..     ...  ..  ...     ...     ...     ...                            ...   \n",
       "390     MS   M   20       U     LE3       A               5th to 9th grade   \n",
       "391     MS   M   17       U     LE3       T            secondary education   \n",
       "392     MS   M   21       R     GT3       T  primary education (4th grade)   \n",
       "393     MS   M   18       R     LE3       T            secondary education   \n",
       "394     MS   M   19       U     LE3       T  primary education (4th grade)   \n",
       "\n",
       "                              Fedu      Mjob      Fjob  ... n_schoolsup  \\\n",
       "0                 higher education   at_home   teacher  ...           1   \n",
       "1    primary education (4th grade)   at_home     other  ...           0   \n",
       "2    primary education (4th grade)   at_home     other  ...           1   \n",
       "3                 5th to 9th grade    health  services  ...           0   \n",
       "4              secondary education     other     other  ...           0   \n",
       "..                             ...       ...       ...  ...         ...   \n",
       "390               5th to 9th grade  services  services  ...           0   \n",
       "391  primary education (4th grade)  services  services  ...           0   \n",
       "392  primary education (4th grade)     other     other  ...           0   \n",
       "393               5th to 9th grade  services     other  ...           0   \n",
       "394  primary education (4th grade)     other   at_home  ...           0   \n",
       "\n",
       "    n_famsup n_paid n_activities  n_nursery n_higher n_internet n_romantic  \\\n",
       "0          0      0            0          1        1          0          0   \n",
       "1          1      0            0          0        1          1          0   \n",
       "2          0      1            0          1        1          1          0   \n",
       "3          1      1            1          1        1          1          1   \n",
       "4          1      1            0          1        1          0          0   \n",
       "..       ...    ...          ...        ...      ...        ...        ...   \n",
       "390        1      1            0          1        1          0          0   \n",
       "391        0      0            0          0        1          1          0   \n",
       "392        0      0            0          0        1          0          0   \n",
       "393        0      0            0          0        1          1          0   \n",
       "394        0      0            0          1        1          1          0   \n",
       "\n",
       "    age_category passed  \n",
       "0       18 to 20     no  \n",
       "1       15 to 17     no  \n",
       "2       15 to 17    yes  \n",
       "3       15 to 17    yes  \n",
       "4       15 to 17    yes  \n",
       "..           ...    ...  \n",
       "390     18 to 20    yes  \n",
       "391     15 to 17    yes  \n",
       "392  21 and over     no  \n",
       "393     18 to 20    yes  \n",
       "394     18 to 20    yes  \n",
       "\n",
       "[395 rows x 48 columns]"
      ]
     },
     "execution_count": 12,
     "metadata": {},
     "output_type": "execute_result"
    }
   ],
   "source": [
    "df"
   ]
  },
  {
   "cell_type": "markdown",
   "id": "c4f9a040",
   "metadata": {},
   "source": [
    "## Data analysis section"
   ]
  },
  {
   "cell_type": "markdown",
   "id": "ec945e66",
   "metadata": {},
   "source": [
    "#### summary stat"
   ]
  },
  {
   "cell_type": "code",
   "execution_count": 13,
   "id": "731eeb0e",
   "metadata": {},
   "outputs": [
    {
     "data": {
      "text/html": [
       "<div>\n",
       "<style scoped>\n",
       "    .dataframe tbody tr th:only-of-type {\n",
       "        vertical-align: middle;\n",
       "    }\n",
       "\n",
       "    .dataframe tbody tr th {\n",
       "        vertical-align: top;\n",
       "    }\n",
       "\n",
       "    .dataframe thead th {\n",
       "        text-align: right;\n",
       "    }\n",
       "</style>\n",
       "<table border=\"1\" class=\"dataframe\">\n",
       "  <thead>\n",
       "    <tr style=\"text-align: right;\">\n",
       "      <th></th>\n",
       "      <th>age</th>\n",
       "      <th>absences</th>\n",
       "      <th>G1</th>\n",
       "      <th>G2</th>\n",
       "      <th>G3</th>\n",
       "    </tr>\n",
       "  </thead>\n",
       "  <tbody>\n",
       "    <tr>\n",
       "      <th>count</th>\n",
       "      <td>395.000000</td>\n",
       "      <td>395.000000</td>\n",
       "      <td>395.000000</td>\n",
       "      <td>395.000000</td>\n",
       "      <td>395.000000</td>\n",
       "    </tr>\n",
       "    <tr>\n",
       "      <th>mean</th>\n",
       "      <td>16.696203</td>\n",
       "      <td>5.708861</td>\n",
       "      <td>10.908861</td>\n",
       "      <td>10.713924</td>\n",
       "      <td>10.415190</td>\n",
       "    </tr>\n",
       "    <tr>\n",
       "      <th>std</th>\n",
       "      <td>1.276043</td>\n",
       "      <td>8.003096</td>\n",
       "      <td>3.319195</td>\n",
       "      <td>3.761505</td>\n",
       "      <td>4.581443</td>\n",
       "    </tr>\n",
       "    <tr>\n",
       "      <th>min</th>\n",
       "      <td>15.000000</td>\n",
       "      <td>0.000000</td>\n",
       "      <td>3.000000</td>\n",
       "      <td>0.000000</td>\n",
       "      <td>0.000000</td>\n",
       "    </tr>\n",
       "    <tr>\n",
       "      <th>25%</th>\n",
       "      <td>16.000000</td>\n",
       "      <td>0.000000</td>\n",
       "      <td>8.000000</td>\n",
       "      <td>9.000000</td>\n",
       "      <td>8.000000</td>\n",
       "    </tr>\n",
       "    <tr>\n",
       "      <th>50%</th>\n",
       "      <td>17.000000</td>\n",
       "      <td>4.000000</td>\n",
       "      <td>11.000000</td>\n",
       "      <td>11.000000</td>\n",
       "      <td>11.000000</td>\n",
       "    </tr>\n",
       "    <tr>\n",
       "      <th>75%</th>\n",
       "      <td>18.000000</td>\n",
       "      <td>8.000000</td>\n",
       "      <td>13.000000</td>\n",
       "      <td>13.000000</td>\n",
       "      <td>14.000000</td>\n",
       "    </tr>\n",
       "    <tr>\n",
       "      <th>max</th>\n",
       "      <td>22.000000</td>\n",
       "      <td>75.000000</td>\n",
       "      <td>19.000000</td>\n",
       "      <td>19.000000</td>\n",
       "      <td>20.000000</td>\n",
       "    </tr>\n",
       "  </tbody>\n",
       "</table>\n",
       "</div>"
      ],
      "text/plain": [
       "              age    absences          G1          G2          G3\n",
       "count  395.000000  395.000000  395.000000  395.000000  395.000000\n",
       "mean    16.696203    5.708861   10.908861   10.713924   10.415190\n",
       "std      1.276043    8.003096    3.319195    3.761505    4.581443\n",
       "min     15.000000    0.000000    3.000000    0.000000    0.000000\n",
       "25%     16.000000    0.000000    8.000000    9.000000    8.000000\n",
       "50%     17.000000    4.000000   11.000000   11.000000   11.000000\n",
       "75%     18.000000    8.000000   13.000000   13.000000   14.000000\n",
       "max     22.000000   75.000000   19.000000   19.000000   20.000000"
      ]
     },
     "execution_count": 13,
     "metadata": {},
     "output_type": "execute_result"
    }
   ],
   "source": [
    "summary_df = df.loc[:, ['age','absences', 'G1', 'G2', 'G3']]\n",
    "summary_df.describe()"
   ]
  },
  {
   "cell_type": "markdown",
   "id": "2671ffa7",
   "metadata": {},
   "source": [
    "## Corealtion and heatmap"
   ]
  },
  {
   "cell_type": "code",
   "execution_count": 14,
   "id": "d79cb9e9",
   "metadata": {},
   "outputs": [
    {
     "data": {
      "text/html": [
       "<div>\n",
       "<style scoped>\n",
       "    .dataframe tbody tr th:only-of-type {\n",
       "        vertical-align: middle;\n",
       "    }\n",
       "\n",
       "    .dataframe tbody tr th {\n",
       "        vertical-align: top;\n",
       "    }\n",
       "\n",
       "    .dataframe thead th {\n",
       "        text-align: right;\n",
       "    }\n",
       "</style>\n",
       "<table border=\"1\" class=\"dataframe\">\n",
       "  <thead>\n",
       "    <tr style=\"text-align: right;\">\n",
       "      <th></th>\n",
       "      <th>absences</th>\n",
       "      <th>failures</th>\n",
       "      <th>G1</th>\n",
       "      <th>G2</th>\n",
       "      <th>G3</th>\n",
       "    </tr>\n",
       "  </thead>\n",
       "  <tbody>\n",
       "    <tr>\n",
       "      <th>absences</th>\n",
       "      <td>1.000000</td>\n",
       "      <td>0.063726</td>\n",
       "      <td>-0.031003</td>\n",
       "      <td>-0.031777</td>\n",
       "      <td>0.034247</td>\n",
       "    </tr>\n",
       "    <tr>\n",
       "      <th>failures</th>\n",
       "      <td>0.063726</td>\n",
       "      <td>1.000000</td>\n",
       "      <td>-0.354718</td>\n",
       "      <td>-0.355896</td>\n",
       "      <td>-0.360415</td>\n",
       "    </tr>\n",
       "    <tr>\n",
       "      <th>G1</th>\n",
       "      <td>-0.031003</td>\n",
       "      <td>-0.354718</td>\n",
       "      <td>1.000000</td>\n",
       "      <td>0.852118</td>\n",
       "      <td>0.801468</td>\n",
       "    </tr>\n",
       "    <tr>\n",
       "      <th>G2</th>\n",
       "      <td>-0.031777</td>\n",
       "      <td>-0.355896</td>\n",
       "      <td>0.852118</td>\n",
       "      <td>1.000000</td>\n",
       "      <td>0.904868</td>\n",
       "    </tr>\n",
       "    <tr>\n",
       "      <th>G3</th>\n",
       "      <td>0.034247</td>\n",
       "      <td>-0.360415</td>\n",
       "      <td>0.801468</td>\n",
       "      <td>0.904868</td>\n",
       "      <td>1.000000</td>\n",
       "    </tr>\n",
       "  </tbody>\n",
       "</table>\n",
       "</div>"
      ],
      "text/plain": [
       "          absences  failures        G1        G2        G3\n",
       "absences  1.000000  0.063726 -0.031003 -0.031777  0.034247\n",
       "failures  0.063726  1.000000 -0.354718 -0.355896 -0.360415\n",
       "G1       -0.031003 -0.354718  1.000000  0.852118  0.801468\n",
       "G2       -0.031777 -0.355896  0.852118  1.000000  0.904868\n",
       "G3        0.034247 -0.360415  0.801468  0.904868  1.000000"
      ]
     },
     "execution_count": 14,
     "metadata": {},
     "output_type": "execute_result"
    }
   ],
   "source": [
    "cor_df = df.loc[:,['absences', 'failures', 'G1', 'G2', 'G3']]\n",
    "cor_df.corr()"
   ]
  },
  {
   "cell_type": "code",
   "execution_count": 15,
   "id": "64cbae5e",
   "metadata": {},
   "outputs": [
    {
     "data": {
      "text/plain": [
       "<AxesSubplot:>"
      ]
     },
     "execution_count": 15,
     "metadata": {},
     "output_type": "execute_result"
    },
    {
     "data": {
      "image/png": "[encoded data removed]",
      "text/plain": [
       "<Figure size 432x288 with 2 Axes>"
      ]
     },
     "metadata": {
      "needs_background": "light"
     },
     "output_type": "display_data"
    }
   ],
   "source": [
    "sns.heatmap(cor_df.corr())"
   ]
  },
  {
   "cell_type": "markdown",
   "id": "60e62450",
   "metadata": {},
   "source": [
    "## 4. Data Exploration and Visualization"
   ]
  },
  {
   "cell_type": "code",
   "execution_count": 16,
   "id": "777beebc",
   "metadata": {},
   "outputs": [
    {
     "data": {
      "text/plain": [
       "<AxesSubplot:xlabel='age', ylabel='Count'>"
      ]
     },
     "execution_count": 16,
     "metadata": {},
     "output_type": "execute_result"
    },
    {
     "data": {
      "image/png": "[encoded data removed]",
      "text/plain": [
       "<Figure size 432x288 with 1 Axes>"
      ]
     },
     "metadata": {
      "needs_background": "light"
     },
     "output_type": "display_data"
    }
   ],
   "source": [
    "eda_df = df.loc[:, ['age', 'absences', 'G3']]\n",
    "sns.histplot(eda_df['age'], kde=True)"
   ]
  },
  {
   "cell_type": "code",
   "execution_count": 17,
   "id": "6d7ef72d",
   "metadata": {},
   "outputs": [
    {
     "data": {
      "text/plain": [
       "<AxesSubplot:xlabel='absences', ylabel='Count'>"
      ]
     },
     "execution_count": 17,
     "metadata": {},
     "output_type": "execute_result"
    },
    {
     "data": {
      "image/png": "[encoded data removed]",
      "text/plain": [
       "<Figure size 432x288 with 1 Axes>"
      ]
     },
     "metadata": {
      "needs_background": "light"
     },
     "output_type": "display_data"
    }
   ],
   "source": [
    "sns.histplot(eda_df['absences'], kde=True)"
   ]
  },
  {
   "cell_type": "code",
   "execution_count": 18,
   "id": "abaaa843",
   "metadata": {},
   "outputs": [
    {
     "data": {
      "text/plain": [
       "<AxesSubplot:xlabel='G3', ylabel='Count'>"
      ]
     },
     "execution_count": 18,
     "metadata": {},
     "output_type": "execute_result"
    },
    {
     "data": {
      "image/png": "[encoded data removed]",
      "text/plain": [
       "<Figure size 432x288 with 1 Axes>"
      ]
     },
     "metadata": {
      "needs_background": "light"
     },
     "output_type": "display_data"
    }
   ],
   "source": [
    "sns.histplot(eda_df['G3'], kde=True)"
   ]
  },
  {
   "cell_type": "code",
   "execution_count": 19,
   "id": "ca8f3996",
   "metadata": {},
   "outputs": [
    {
     "data": {
      "text/plain": [
       "<AxesSubplot:xlabel='age'>"
      ]
     },
     "execution_count": 19,
     "metadata": {},
     "output_type": "execute_result"
    },
    {
     "data": {
      "image/png": "[encoded data removed]",
      "text/plain": [
       "<Figure size 432x288 with 1 Axes>"
      ]
     },
     "metadata": {
      "needs_background": "light"
     },
     "output_type": "display_data"
    }
   ],
   "source": [
    "sns.boxplot(x=eda_df['age'])"
   ]
  },
  {
   "cell_type": "code",
   "execution_count": 20,
   "id": "0d7aa11f",
   "metadata": {},
   "outputs": [
    {
     "data": {
      "text/plain": [
       "<AxesSubplot:xlabel='absences'>"
      ]
     },
     "execution_count": 20,
     "metadata": {},
     "output_type": "execute_result"
    },
    {
     "data": {
      "image/png": "[encoded data removed]",
      "text/plain": [
       "<Figure size 432x288 with 1 Axes>"
      ]
     },
     "metadata": {
      "needs_background": "light"
     },
     "output_type": "display_data"
    }
   ],
   "source": [
    "sns.boxplot(x=eda_df['absences'])"
   ]
  },
  {
   "cell_type": "code",
   "execution_count": 21,
   "id": "5de1142c",
   "metadata": {},
   "outputs": [
    {
     "data": {
      "text/plain": [
       "<AxesSubplot:xlabel='G3'>"
      ]
     },
     "execution_count": 21,
     "metadata": {},
     "output_type": "execute_result"
    },
    {
     "data": {
      "image/png": "[encoded data removed]",
      "text/plain": [
       "<Figure size 432x288 with 1 Axes>"
      ]
     },
     "metadata": {
      "needs_background": "light"
     },
     "output_type": "display_data"
    }
   ],
   "source": [
    "sns.boxplot(x=eda_df['G3'])"
   ]
  },
  {
   "cell_type": "markdown",
   "id": "06375499",
   "metadata": {},
   "source": [
    "## bargraph of passed students"
   ]
  },
  {
   "cell_type": "code",
   "execution_count": 22,
   "id": "64cdf6b0",
   "metadata": {
    "scrolled": false
   },
   "outputs": [],
   "source": [
    "ps_df = df[df['passed'] == 'yes']"
   ]
  },
  {
   "cell_type": "code",
   "execution_count": 23,
   "id": "488ef997",
   "metadata": {},
   "outputs": [],
   "source": [
    "ms_passed_count = len(ps_df[ps_df['school'] == 'MS'])\n",
    "gp_passed_count = len(ps_df[ps_df['school'] == 'GP'])\n",
    "passed_students = [gp_passed_count, ms_passed_count]\n",
    "schools = ['Gabriel Pereira', 'Mousinho da Silveira']"
   ]
  },
  {
   "cell_type": "code",
   "execution_count": 24,
   "id": "046cc1b7",
   "metadata": {},
   "outputs": [
    {
     "data": {
      "text/plain": [
       "Text(0, 0.5, 'Schools')"
      ]
     },
     "execution_count": 24,
     "metadata": {},
     "output_type": "execute_result"
    },
    {
     "data": {
      "image/png": "[encoded data removed]",
      "text/plain": [
       "<Figure size 432x288 with 1 Axes>"
      ]
     },
     "metadata": {
      "needs_background": "light"
     },
     "output_type": "display_data"
    }
   ],
   "source": [
    "bar = sns.barplot(x=schools,y=passed_students)\n",
    "bar.set_xlabel('No of student')\n",
    "bar.set_ylabel('Schools')"
   ]
  },
  {
   "cell_type": "code",
   "execution_count": 36,
   "id": "8daa70f5",
   "metadata": {
    "scrolled": true
   },
   "outputs": [
    {
     "data": {
      "text/plain": [
       "Text(0, 0.5, 'Number of students')"
      ]
     },
     "execution_count": 36,
     "metadata": {},
     "output_type": "execute_result"
    },
    {
     "data": {
      "image/png": "[encoded data removed]",
      "text/plain": [
       "<Figure size 432x288 with 1 Axes>"
      ]
     },
     "metadata": {
      "needs_background": "light"
     },
     "output_type": "display_data"
    }
   ],
   "source": [
    "failed_students_df = df[df['passed']=='no']\n",
    "two_to_five = len(failed_students_df[failed_students_df['studytime'] == '2 to 5 hours'])\n",
    "five_to_ten = len(failed_students_df[failed_students_df['studytime'] == '5 to 10 hours'])\n",
    "less_than_two = len(failed_students_df[failed_students_df['studytime'] == '<2 hours'])\n",
    "more_than_ten = len(failed_students_df[failed_students_df['studytime'] == '>10 hours'])\n",
    "stud_num = [two_to_five, five_to_ten, less_than_two, more_than_ten]\n",
    "stud_cat = ['2-5', '5-10', 'less than 2', 'more than 10']\n",
    "b = sns.barplot(x=stud_cat,y=stud_num)\n",
    "b.set_xlabel('student\\'s study time')\n",
    "b.set_ylabel('Number of students')"
   ]
  },
  {
   "cell_type": "code",
   "execution_count": null,
   "id": "cb2bfe3e",
   "metadata": {},
   "outputs": [],
   "source": []
  },
  {
   "cell_type": "code",
   "execution_count": null,
   "id": "330983c0",
   "metadata": {},
   "outputs": [],
   "source": []
  }
 ],
 "metadata": {
  "kernelspec": {
   "display_name": "Python 3",
   "language": "python",
   "name": "python3"
  },
  "language_info": {
   "codemirror_mode": {
    "name": "ipython",
    "version": 3
   },
   "file_extension": ".py",
   "mimetype": "text/x-python",
   "name": "python",
   "nbconvert_exporter": "python",
   "pygments_lexer": "ipython3",
   "version": "3.7.11"
  }
 },
 "nbformat": 4,
 "nbformat_minor": 5
}
